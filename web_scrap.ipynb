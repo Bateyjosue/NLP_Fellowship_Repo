{
  "nbformat": 4,
  "nbformat_minor": 0,
  "metadata": {
    "colab": {
      "provenance": [],
      "collapsed_sections": [],
      "authorship_tag": "ABX9TyOfk24vJDILWt59c8sXIdV4",
      "include_colab_link": true
    },
    "kernelspec": {
      "name": "python3",
      "display_name": "Python 3"
    },
    "language_info": {
      "name": "python"
    },
    "accelerator": "GPU",
    "gpuClass": "standard"
  },
  "cells": [
    {
      "cell_type": "markdown",
      "metadata": {
        "id": "view-in-github",
        "colab_type": "text"
      },
      "source": [
        "<a href=\"https://colab.research.google.com/github/Bateyjosue/NLP_Fellowship_Repo/blob/development/web_scrap.ipynb\" target=\"_parent\"><img src=\"https://colab.research.google.com/assets/colab-badge.svg\" alt=\"Open In Colab\"/></a>"
      ]
    },
    {
      "cell_type": "code",
      "execution_count": 11,
      "metadata": {
        "id": "xFidCBHyzPC9"
      },
      "outputs": [],
      "source": [
        "import requests\n",
        "from bs4 import BeautifulSoup\n",
        "\n",
        "class Web_Scrap:\n",
        "  def __init__(self, link):\n",
        "    self.url = link\n",
        "  \n",
        "  def get_content(self):\n",
        "    content = requests.get(url = self.url).content\n",
        "    content = BeautifulSoup(content, 'lxml')\n",
        "    return content\n",
        "  \n",
        "  def get_content_class(self, class_, tag = None):\n",
        "    content = self.get_content()\n",
        "    content = content.find_all(class_= class_) if tag == None else content.find_all(tag, class_= class_)\n",
        "    return content\n",
        "\n"
      ]
    },
    {
      "cell_type": "code",
      "source": [
        "# Test \n",
        "scrap = Web_Scrap(\"https://www.microverse.org/\")\n",
        "print(scrap.get_content())\n",
        "post_card = (scrap.get_content_class('postcard-collection-item'))\n",
        "for post in post_card:\n",
        "  print(post.find('a')['href'])"
      ],
      "metadata": {
        "id": "P9uRFyU55LXN"
      },
      "execution_count": 12,
      "outputs": []
    }
  ]
}